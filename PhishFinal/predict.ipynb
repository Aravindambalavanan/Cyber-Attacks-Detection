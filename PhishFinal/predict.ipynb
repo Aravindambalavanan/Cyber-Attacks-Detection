{
 "cells": [
  {
   "cell_type": "code",
   "execution_count": 1,
   "metadata": {},
   "outputs": [],
   "source": [
    "import joblib"
   ]
  },
  {
   "cell_type": "code",
   "execution_count": 2,
   "metadata": {},
   "outputs": [],
   "source": [
    "text_model = joblib.load(\"text_model.joblib\")\n",
    "feature_model = joblib.load(\"feature_model.joblib\")"
   ]
  },
  {
   "cell_type": "code",
   "execution_count": 14,
   "metadata": {},
   "outputs": [],
   "source": [
    "def detect_phishing():\n",
    "            url ='https://www.facebook.com/'\n",
    "            # Making prediction using feature-based model\n",
    "            feature_pred = feature_model.predict([url])\n",
    "            print(feature_pred[0])\n",
    "\n",
    "            # Making prediction using text-based model\n",
    "            text_pred = text_model.predict([url])\n",
    "            print(text_pred[0])\n",
    "\n",
    "            # Choosing final prediction based on confidence scores\n",
    "            if feature_pred == text_pred:\n",
    "                final_pred = feature_pred\n",
    "            else:\n",
    "                # Getting confidence scores from feature-based model\n",
    "                feature_confidence = feature_model.predict_proba([url])\n",
    "                print(feature_confidence)\n",
    "\n",
    "                # Getting confidence scores from text-based model\n",
    "                text_confidence = text_model.predict_proba([url])\n",
    "                print(text_confidence)\n",
    "\n",
    "                # Extracting confidence scores for phishing and legitimate classes\n",
    "                confidence_phishing_feature = feature_confidence[:,0] if feature_confidence.shape[1] > 1 else 1 - feature_confidence[:, 0]\n",
    " \n",
    "                confidence_legitimate_feature = feature_confidence[:,1] if feature_confidence.shape[1] > 1 else feature_confidence[:, 0]\n",
    "  \n",
    "                confidence_phishing_text = text_confidence[:,0] if text_confidence.shape[1] > 1 else 1 - text_confidence[:, 0]\n",
    "\n",
    "                confidence_legitimate_text = text_confidence[:,1] if text_confidence.shape[1] > 1 else text_confidence[:, 0]\n",
    "\n",
    "                # Defining weights for each model's confidence score\n",
    "                weight_feature = 0.6\n",
    "                weight_text = 0.4\n",
    "\n",
    "                # Combining confidence scores using weighted average\n",
    "                combined_confidence_phishing = (weight_feature * confidence_phishing_feature) + (weight_text * confidence_phishing_text)\n",
    "                combined_confidence_legitimate = (weight_feature * confidence_legitimate_feature) + (weight_text * confidence_legitimate_text)\n",
    "\n",
    "                final_pred = -1 if combined_confidence_phishing > combined_confidence_legitimate else 1\n",
    "\n",
    "            result = \"Phishing\" if final_pred == -1 else \"Legitimate\"\n",
    "            \n",
    "            print(result)\n",
    "\n",
    "            # Returning prediction and confidence scores to be rendered in the HTML template\n",
    "    \n",
    "\n",
    "\n",
    "  "
   ]
  },
  {
   "cell_type": "code",
   "execution_count": 15,
   "metadata": {},
   "outputs": [
    {
     "name": "stdout",
     "output_type": "stream",
     "text": [
      "1\n",
      "1\n",
      "Legitimate\n"
     ]
    },
    {
     "name": "stderr",
     "output_type": "stream",
     "text": [
      "C:\\Users\\j_ara\\AppData\\Local\\Packages\\PythonSoftwareFoundation.Python.3.11_qbz5n2kfra8p0\\LocalCache\\local-packages\\Python311\\site-packages\\sklearn\\utils\\validation.py:767: FutureWarning: is_sparse is deprecated and will be removed in a future version. Check `isinstance(dtype, pd.SparseDtype)` instead.\n",
      "  if not hasattr(array, \"sparse\") and array.dtypes.apply(is_sparse).any():\n",
      "C:\\Users\\j_ara\\AppData\\Local\\Packages\\PythonSoftwareFoundation.Python.3.11_qbz5n2kfra8p0\\LocalCache\\local-packages\\Python311\\site-packages\\sklearn\\utils\\validation.py:605: FutureWarning: is_sparse is deprecated and will be removed in a future version. Check `isinstance(dtype, pd.SparseDtype)` instead.\n",
      "  if is_sparse(pd_dtype):\n",
      "C:\\Users\\j_ara\\AppData\\Local\\Packages\\PythonSoftwareFoundation.Python.3.11_qbz5n2kfra8p0\\LocalCache\\local-packages\\Python311\\site-packages\\sklearn\\utils\\validation.py:614: FutureWarning: is_sparse is deprecated and will be removed in a future version. Check `isinstance(dtype, pd.SparseDtype)` instead.\n",
      "  if is_sparse(pd_dtype) or not is_extension_array_dtype(pd_dtype):\n"
     ]
    }
   ],
   "source": [
    "detect_phishing()"
   ]
  },
  {
   "cell_type": "code",
   "execution_count": null,
   "metadata": {},
   "outputs": [],
   "source": []
  }
 ],
 "metadata": {
  "kernelspec": {
   "display_name": "Python 3",
   "language": "python",
   "name": "python3"
  },
  "language_info": {
   "codemirror_mode": {
    "name": "ipython",
    "version": 3
   },
   "file_extension": ".py",
   "mimetype": "text/x-python",
   "name": "python",
   "nbconvert_exporter": "python",
   "pygments_lexer": "ipython3",
   "version": "3.11.9"
  }
 },
 "nbformat": 4,
 "nbformat_minor": 2
}
